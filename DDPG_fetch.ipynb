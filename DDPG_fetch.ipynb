{
 "cells": [
  {
   "cell_type": "code",
   "execution_count": 1,
   "metadata": {},
   "outputs": [
    {
     "data": {
      "application/javascript": [
       "IPython.OutputArea.prototype._should_scroll = function(lines) {\n",
       "    return false;\n",
       "}\n"
      ],
      "text/plain": [
       "<IPython.core.display.Javascript object>"
      ]
     },
     "metadata": {},
     "output_type": "display_data"
    }
   ],
   "source": [
    "%%javascript\n",
    "IPython.OutputArea.prototype._should_scroll = function(lines) {\n",
    "    return false;\n",
    "}"
   ]
  },
  {
   "cell_type": "code",
   "execution_count": 2,
   "metadata": {},
   "outputs": [],
   "source": [
    "%%capture\n",
    "from tqdm import tqdm_notebook as tqdm\n",
    "tqdm().pandas()"
   ]
  },
  {
   "cell_type": "code",
   "execution_count": 3,
   "metadata": {},
   "outputs": [],
   "source": [
    "import tensorflow as tf\n",
    "import gym\n",
    "import numpy as np\n",
    "import tqdm\n",
    "import matplotlib.pyplot as plt\n",
    "from collections import namedtuple\n",
    "from tensorflow.keras import Sequential\n",
    "from tensorflow.keras.layers import InputLayer\n",
    "from tensorflow.keras.layers import Dense\n",
    "from tensorflow.keras import Model\n",
    "from tensorflow.keras.optimizers import Adam\n",
    "\n",
    "\n",
    "plt.style.use('ggplot')\n",
    "plt.rcParams['figure.figsize'] = [12, 4]\n",
    "tf.keras.backend.set_floatx('float64')"
   ]
  },
  {
   "cell_type": "code",
   "execution_count": 4,
   "metadata": {},
   "outputs": [
    {
     "name": "stdout",
     "output_type": "stream",
     "text": [
      "Num GPUs Available:  1\n"
     ]
    }
   ],
   "source": [
    "print(\"Num GPUs Available: \", len(tf.config.experimental.list_physical_devices('GPU')))"
   ]
  },
  {
   "cell_type": "code",
   "execution_count": 5,
   "metadata": {},
   "outputs": [],
   "source": [
    "tf.debugging.set_log_device_placement(True)"
   ]
  },
  {
   "cell_type": "code",
   "execution_count": 6,
   "metadata": {},
   "outputs": [],
   "source": [
    "env = gym.make('Pendulum-v0')"
   ]
  },
  {
   "cell_type": "code",
   "execution_count": 19,
   "metadata": {},
   "outputs": [],
   "source": [
    "Batch = namedtuple(\n",
    "    'Batch', ('states', 'actions', 'rewards', 'next_states', 'dones')\n",
    ")\n",
    "\n",
    "class ReplayMemory:\n",
    "    \n",
    "    def __init__(self, max_size, state_dim, action_dim):\n",
    "        self.max_size = max_size\n",
    "        self.state_dim = state_dim\n",
    "        \n",
    "        self.states = np.random.random((max_size, state_dim), device='cuda')\n",
    "        self.actions = np.random.random((max_size, action_dim), device='cuda')\n",
    "        self.rewards = np.random.random((max_size, 1), device='cuda')\n",
    "        self.next_states = np.random.random((max_size, state_dim), device='cuda')\n",
    "        self.dones = np.full((max_size, 1), True)\n",
    "        \n",
    "        self.idx = 0\n",
    "        self.size = 0\n",
    "    \n",
    "    def add(self, state, action, reward, next_state, done):\n",
    "        \n",
    "        self.states[self.idx] = state\n",
    "        self.actions[self.idx] = action\n",
    "        self.rewards[self.idx] = reward\n",
    "        self.next_states[self.idx] = next_state\n",
    "        self.dones[self.idx] = done\n",
    "        \n",
    "        self.idx = (self.idx + 1) % self.max_size\n",
    "        self.size = min(self.size + 1, self.max_size)\n",
    "    \n",
    "    def sample(self, batch_size):\n",
    "        if self.size <= batch_size:\n",
    "            sample_indices = np.random.choice(self.size, self.size, replace=False)\n",
    "        else:\n",
    "            sample_indices = np.random.choice(self.size, batch_size, replace=False)\n",
    "        batch = Batch(\n",
    "                        states = self.states[ sample_indices ,:],\n",
    "                        actions = self.actions[ sample_indices ,:],\n",
    "                        rewards = self.rewards[ sample_indices ,:],\n",
    "                        next_states = self.next_states[ sample_indices ,:],\n",
    "                        dones = self.dones[ sample_indices ,:]\n",
    "                    )\n",
    "        return batch\n",
    "\n",
    "    def populate(self, env, num_steps):\n",
    "        state = env.reset()\n",
    "        for i in range(num_steps):\n",
    "            action = env.action_space.sample()\n",
    "            next_state, reward, done, info = env.step(action)\n",
    "            self.add(state, action, reward, next_state, done)\n",
    "            if done:\n",
    "                state = env.reset()\n",
    "            state = next_state\n",
    "        "
   ]
  },
  {
   "cell_type": "code",
   "execution_count": 20,
   "metadata": {},
   "outputs": [],
   "source": [
    "class Network:\n",
    "    def __init__(self, input_size, hidden_layers_count, output_size, nodes_count=512):\n",
    "        self.model = Sequential()\n",
    "        self.model.add(InputLayer(input_size))\n",
    "        for _ in range(hidden_layers_count):\n",
    "            self.model.add(Dense(nodes_count, activation='relu'))\n",
    "        self.model.add(Dense(output_size, activation='tanh'))\n",
    "        \n",
    "    "
   ]
  },
  {
   "cell_type": "code",
   "execution_count": 21,
   "metadata": {},
   "outputs": [],
   "source": [
    "def huber_loss(x, delta=1.):\n",
    "    \"\"\"\n",
    "    Compute the huber loss.\n",
    "    https://en.wikipedia.org/wiki/Huber_loss\n",
    "    :param x (np.ndarray or tf.Tensor): Values to compute the huber loss.\n",
    "    :param delta (float): Positive floating point value. Represents the\n",
    "                          maximum possible gradient magnitude.\n",
    "    :return (tf.Tensor): The huber loss.\n",
    "    \"\"\"\n",
    "    delta = tf.ones_like(x) * delta\n",
    "    less_than_max = 0.5 * tf.square(x)\n",
    "    greater_than_max = delta * (tf.abs(x) - 0.5 * delta)\n",
    "    return tf.where(\n",
    "        tf.abs(x) <= delta,\n",
    "        x=less_than_max,\n",
    "        y=greater_than_max)\n",
    "\n",
    "class OUNoise(object):\n",
    "    def __init__(self, action_space, mu=0.0, theta=0.15, max_sigma=0.3, min_sigma=0.3, decay_period=100000):\n",
    "        self.mu           = mu\n",
    "        self.theta        = theta\n",
    "        self.sigma        = max_sigma\n",
    "        self.max_sigma    = max_sigma\n",
    "        self.min_sigma    = min_sigma\n",
    "        self.decay_period = decay_period\n",
    "        self.action_dim   = action_space.shape[0]\n",
    "        self.low          = action_space.low\n",
    "        self.high         = action_space.high\n",
    "        self.reset()\n",
    "        \n",
    "    def reset(self):\n",
    "        self.state = np.ones(self.action_dim) * self.mu\n",
    "        \n",
    "    def evolve_state(self):\n",
    "        x  = self.state\n",
    "        dx = self.theta * (self.mu - x) + self.sigma * np.random.randn(self.action_dim)\n",
    "        self.state = x + dx\n",
    "        return self.state\n",
    "    \n",
    "    def get_action(self, action, t=0): \n",
    "        ou_state = self.evolve_state()\n",
    "        self.sigma = self.max_sigma - (self.max_sigma - self.min_sigma) * min(1.0, t / self.decay_period)\n",
    "        return np.clip(action + ou_state, self.low, self.high)\n",
    "\n"
   ]
  },
  {
   "cell_type": "code",
   "execution_count": 25,
   "metadata": {},
   "outputs": [],
   "source": [
    "class DDPG:\n",
    "    \n",
    "    def __init__(self, state_size, action_size, actor_learning_rate=0.0001, critic_learning_rate=0.0001, gamma=0.99, tau=0.005):\n",
    "        self.state_size = state_size\n",
    "        self.action_size = action_size\n",
    "        self.actor_lr = actor_learning_rate\n",
    "        self.critic_lr = critic_learning_rate\n",
    "        self.gamma = gamma\n",
    "        self.tau = tau\n",
    "        \n",
    "        self.critic = Network(state_size + action_size, 3, action_size).model\n",
    "        self.target_critic = Network(state_size + action_size, 3, action_size).model\n",
    "        \n",
    "        self.actor = Network(state_size, 3, action_size).model\n",
    "        self.target_actor = Network(state_size, 3, action_size).model\n",
    "        \n",
    "        self.critic_optimizer = Adam(learning_rate=self.critic_lr)\n",
    "        self.actor_optimizer = Adam(learning_rate=self.actor_lr)\n",
    "        \n",
    "        self.critic_loss_method = tf.keras.losses.MeanSquaredError()\n",
    "        self.ou = None\n",
    "        self.build()\n",
    "    \n",
    "    def update_weights(self, base_model, target_model, tau):\n",
    "        for base_layer, target_layer in zip(base_model.weights, target_model.weights):\n",
    "            target_layer.assign(tau * base_layer + (1 - tau) * target_layer)\n",
    "            \n",
    "    def build(self):\n",
    "        self.update_weights(self.actor, self.target_actor, tau = 1)\n",
    "        self.update_weights(self.critic, self.target_critic, tau = 1)\n",
    "    \n",
    "    def generate_noise(self, size):\n",
    "        return tf.random.normal(shape=(size, self.action_size), mean=0, stddev=0.1, dtype=tf.float64)\n",
    "    \n",
    "    def actions(self, states):\n",
    "        actions_ = self.actor(states)\n",
    "        #print(actions_)\n",
    "        noised_actions = ou.get_action(actions_)\n",
    "        #print(noised_actions)\n",
    "        return noised_actions\n",
    "        #noise = self.generate_noise(states.shape[0])\n",
    "        #return tf.clip_by_value(actions_ + noise, -1, 1)\n",
    "        \n",
    "    @tf.function\n",
    "    def train(self, states, actions, rewards, next_states, dones):\n",
    "        \n",
    "        target_next_actions = self.target_actor(next_states)\n",
    "        q_dash_next_state = self.target_critic(tf.concat([next_states, target_next_actions], axis=1))\n",
    "        not_dones = tf.cast(tf.math.logical_not(dones), dtype=tf.float64)\n",
    "        q_dash = self.gamma * q_dash_next_state * not_dones + rewards\n",
    "        with tf.GradientTape() as critic_tape:\n",
    "            tf.stop_gradient(q_dash)\n",
    "            q_ = self.critic(tf.concat([states, actions], axis=1))\n",
    "            critic_loss = self.critic_loss_method(q_dash, q_)\n",
    "        critic_gradients = critic_tape.gradient(critic_loss, self.critic.trainable_variables)\n",
    "        self.critic_optimizer.apply_gradients( zip(critic_gradients, self.critic.trainable_variables))    \n",
    "        \n",
    "        with tf.GradientTape() as actor_tape:\n",
    "            predicted_actions = self.actor(states)\n",
    "            actor_loss = -tf.reduce_mean(self.critic(tf.concat([states, predicted_actions], axis=1)))\n",
    "            \n",
    "        actor_gradients = actor_tape.gradient(actor_loss, self.actor.trainable_variables)\n",
    "        self.actor_optimizer.apply_gradients(zip(actor_gradients, self.actor.trainable_variables))\n",
    "        self.update_weights(self.actor, self.target_actor, self.tau)\n",
    "        self.update_weights(self.critic, self.target_critic, self.tau)\n",
    "        return critic_loss, actor_loss\n",
    "        \n",
    "    def assign_ou(self, ou):\n",
    "        self.ou = ou\n",
    "        "
   ]
  },
  {
   "cell_type": "code",
   "execution_count": 33,
   "metadata": {
    "scrolled": false
   },
   "outputs": [
    {
     "name": "stdout",
     "output_type": "stream",
     "text": [
      "Executing op DestroyResourceOp in device /job:localhost/replica:0/task:0/device:GPU:0\n"
     ]
    },
    {
     "data": {
      "application/vnd.jupyter.widget-view+json": {
       "model_id": "5a838ad1f6df4c06ac758b51d44bdc49",
       "version_major": 2,
       "version_minor": 0
      },
      "text/plain": [
       "HBox(children=(IntProgress(value=0, layout=Layout(flex='2'), max=1500000), HTML(value='')), layout=Layout(disp…"
      ]
     },
     "metadata": {},
     "output_type": "display_data"
    },
    {
     "name": "stdout",
     "output_type": "stream",
     "text": [
      "Executing op VarHandleOp in device /job:localhost/replica:0/task:0/device:GPU:0\n",
      "Executing op VarHandleOp in device /job:localhost/replica:0/task:0/device:GPU:0\n",
      "Executing op VarHandleOp in device /job:localhost/replica:0/task:0/device:GPU:0\n",
      "Executing op VarHandleOp in device /job:localhost/replica:0/task:0/device:GPU:0\n",
      "Executing op VarHandleOp in device /job:localhost/replica:0/task:0/device:GPU:0\n",
      "Executing op VarHandleOp in device /job:localhost/replica:0/task:0/device:GPU:0\n",
      "Executing op VarHandleOp in device /job:localhost/replica:0/task:0/device:GPU:0\n",
      "Executing op VarHandleOp in device /job:localhost/replica:0/task:0/device:GPU:0\n",
      "Executing op VarHandleOp in device /job:localhost/replica:0/task:0/device:GPU:0\n",
      "Executing op VarHandleOp in device /job:localhost/replica:0/task:0/device:GPU:0\n",
      "Executing op VarHandleOp in device /job:localhost/replica:0/task:0/device:GPU:0\n",
      "Executing op VarHandleOp in device /job:localhost/replica:0/task:0/device:GPU:0\n",
      "Executing op VarHandleOp in device /job:localhost/replica:0/task:0/device:GPU:0\n",
      "Executing op VarHandleOp in device /job:localhost/replica:0/task:0/device:GPU:0\n",
      "Executing op VarHandleOp in device /job:localhost/replica:0/task:0/device:GPU:0\n",
      "Executing op VarHandleOp in device /job:localhost/replica:0/task:0/device:GPU:0\n",
      "Executing op VarHandleOp in device /job:localhost/replica:0/task:0/device:GPU:0\n",
      "Executing op VarHandleOp in device /job:localhost/replica:0/task:0/device:GPU:0\n",
      "Executing op VarHandleOp in device /job:localhost/replica:0/task:0/device:GPU:0\n",
      "Executing op VarHandleOp in device /job:localhost/replica:0/task:0/device:GPU:0\n",
      "Executing op VarHandleOp in device /job:localhost/replica:0/task:0/device:GPU:0\n",
      "Executing op VarHandleOp in device /job:localhost/replica:0/task:0/device:GPU:0\n",
      "Executing op VarHandleOp in device /job:localhost/replica:0/task:0/device:GPU:0\n",
      "Executing op VarHandleOp in device /job:localhost/replica:0/task:0/device:GPU:0\n",
      "Executing op VarHandleOp in device /job:localhost/replica:0/task:0/device:GPU:0\n",
      "Executing op VarHandleOp in device /job:localhost/replica:0/task:0/device:GPU:0\n",
      "Executing op VarHandleOp in device /job:localhost/replica:0/task:0/device:GPU:0\n",
      "Executing op VarHandleOp in device /job:localhost/replica:0/task:0/device:GPU:0\n",
      "Executing op VarHandleOp in device /job:localhost/replica:0/task:0/device:GPU:0\n",
      "Executing op VarHandleOp in device /job:localhost/replica:0/task:0/device:GPU:0\n",
      "Executing op VarHandleOp in device /job:localhost/replica:0/task:0/device:GPU:0\n",
      "Executing op VarHandleOp in device /job:localhost/replica:0/task:0/device:GPU:0\n",
      "Executing op VarHandleOp in device /job:localhost/replica:0/task:0/device:GPU:0\n",
      "Executing op VarHandleOp in device /job:localhost/replica:0/task:0/device:GPU:0\n",
      "Executing op VarHandleOp in device /job:localhost/replica:0/task:0/device:GPU:0\n",
      "Executing op VarHandleOp in device /job:localhost/replica:0/task:0/device:GPU:0\n",
      "Executing op VarHandleOp in device /job:localhost/replica:0/task:0/device:GPU:0\n",
      "Executing op VarHandleOp in device /job:localhost/replica:0/task:0/device:GPU:0\n",
      "Executing op VarHandleOp in device /job:localhost/replica:0/task:0/device:GPU:0\n",
      "Executing op VarHandleOp in device /job:localhost/replica:0/task:0/device:GPU:0\n",
      "Executing op VarHandleOp in device /job:localhost/replica:0/task:0/device:GPU:0\n",
      "Executing op VarHandleOp in device /job:localhost/replica:0/task:0/device:GPU:0\n",
      "Executing op __inference_initialize_variables_12513200 in device /job:localhost/replica:0/task:0/device:GPU:0\n",
      "Executing op __inference_train_12513740 in device /job:localhost/replica:0/task:0/device:GPU:0\n",
      "saved\n",
      "saved\n",
      "saved\n",
      "saved\n",
      "saved\n",
      "saved\n",
      "saved\n",
      "saved\n",
      "saved\n",
      "saved\n",
      "saved\n",
      "saved\n",
      "saved\n",
      "saved\n",
      "\n"
     ]
    }
   ],
   "source": [
    "TIMESTEPS = 15_00_000\n",
    "BATCH_SIZE = 4\n",
    "state_dim = 3\n",
    "action_dim = 1\n",
    "memory_size = 50000\n",
    "replay_memory = ReplayMemory(memory_size, state_dim, action_dim)\n",
    "replay_memory.populate(env, 10000)\n",
    "critic_losses = []\n",
    "actor_losses = []\n",
    "\n",
    "ou = OUNoise(env.action_space)\n",
    "ddpg = DDPG(state_dim, action_dim)\n",
    "ddpg.assign_ou(ou)\n",
    "counter = 0\n",
    "state = env.reset()\n",
    "# state = np.concatenate((state[\"observation\"], state[\"achieved_goal\"], state[\"desired_goal\"]), axis=0)\n",
    "pbar = tqdm.tnrange(TIMESTEPS, ncols='100%')\n",
    "for t_total in pbar:\n",
    "    action = ddpg.actions(np.array([state]))\n",
    "    next_state, reward, done, info = env.step(np.array(action)[0])\n",
    "    #next_state = np.concatenate((next_state[\"observation\"], next_state[\"achieved_goal\"], next_state[\"desired_goal\"]), axis=0)\n",
    "    replay_memory.add(state, action, reward, next_state, done)\n",
    "    if t_total != 0 and t_total % 4 == 0:\n",
    "        experience_batch = replay_memory.sample(4)\n",
    "        critic_loss, actor_loss = ddpg.train(experience_batch.states, experience_batch.actions, experience_batch.rewards, experience_batch.next_states, experience_batch.dones)\n",
    "        critic_losses.append(critic_loss)\n",
    "        actor_losses.append(actor_loss)\n",
    "    if t_total != 0 and t_total % 100000 == 0:\n",
    "        ddpg.target_actor.save_weights(\"model\" + str(counter))\n",
    "        print(\"saved\")\n",
    "        counter += 1\n",
    "    if done:\n",
    "        state = env.reset()\n",
    "        ou = OUNoise(env.action_space)\n",
    "        ddpg.assign_ou(ou)\n",
    "        # state = np.concatenate((state[\"observation\"], state[\"achieved_goal\"], state[\"desired_goal\"]), axis=0)\n",
    "    else:\n",
    "        state = next_state  \n",
    "            "
   ]
  },
  {
   "cell_type": "code",
   "execution_count": 30,
   "metadata": {},
   "outputs": [],
   "source": [
    "def rolling_average(data, *, window_size):\n",
    "    \"\"\"Smoothen the 1-d data array using a rollin average.\n",
    "\n",
    "    Args:\n",
    "        data: 1-d numpy.array\n",
    "        window_size: size of the smoothing window\n",
    "\n",
    "    Returns:\n",
    "        smooth_data: a 1-d numpy.array with the same size as data\n",
    "    \"\"\"\n",
    "    kernel = np.ones(window_size)\n",
    "    smooth_data = np.convolve(data, kernel) / np.convolve(\n",
    "        np.ones_like(data), kernel\n",
    "    )\n",
    "    return smooth_data[: -window_size + 1]"
   ]
  },
  {
   "cell_type": "code",
   "execution_count": 44,
   "metadata": {},
   "outputs": [
    {
     "data": {
      "text/plain": [
       "[<matplotlib.lines.Line2D at 0x1677d5d3048>]"
      ]
     },
     "execution_count": 44,
     "metadata": {},
     "output_type": "execute_result"
    },
    {
     "data": {
      "image/png": "[encoded data removed]",
      "text/plain": [
       "<Figure size 432x288 with 1 Axes>"
      ]
     },
     "metadata": {
      "needs_background": "light"
     },
     "output_type": "display_data"
    }
   ],
   "source": [
    "plt.xlabel(\"Batch\")\n",
    "plt.ylabel(\"Loss\")\n",
    "plt.plot(np.arange(1, len(actor_losses) + 1), actor_losses)\n",
    "plt.plot(np.arange(1, len(actor_losses) + 1), rolling_average(actor_losses, window_size=150))"
   ]
  },
  {
   "cell_type": "code",
   "execution_count": 45,
   "metadata": {},
   "outputs": [
    {
     "data": {
      "text/plain": [
       "[<matplotlib.lines.Line2D at 0x1679aa56a08>]"
      ]
     },
     "execution_count": 45,
     "metadata": {},
     "output_type": "execute_result"
    },
    {
     "data": {
      "image/png": "[encoded data removed]",
      "text/plain": [
       "<Figure size 432x288 with 1 Axes>"
      ]
     },
     "metadata": {
      "needs_background": "light"
     },
     "output_type": "display_data"
    }
   ],
   "source": [
    "plt.xlabel(\"Episodes\")\n",
    "plt.ylabel(\"Returns\")\n",
    "plt.plot(np.arange(1, len(critic_losses) + 1), critic_losses)\n",
    "plt.plot(np.arange(1, len(critic_losses) + 1), rolling_average(critic_losses, window_size=150))"
   ]
  },
  {
   "cell_type": "code",
   "execution_count": 46,
   "metadata": {},
   "outputs": [
    {
     "name": "stdout",
     "output_type": "stream",
     "text": [
      "(array([ 0.21631512,  0.9763236 , -0.87966651]), -2.2080566651733475, True, {'TimeLimit.truncated': True})\n"
     ]
    }
   ],
   "source": [
    "state = env.reset()\n",
    "for _ in range(1000):\n",
    "    env.render()\n",
    "    # state = np.concatenate((state[\"observation\"], state[\"achieved_goal\"], state[\"desired_goal\"]), axis=0)\n",
    "    action = ddpg.target_actor(np.array([state]))\n",
    "    t = env.step(np.array(action)[0])\n",
    "    if t[-2]:\n",
    "        print(t)\n",
    "        break\n",
    "env.close()"
   ]
  },
  {
   "cell_type": "code",
   "execution_count": 15,
   "metadata": {},
   "outputs": [
    {
     "data": {
      "text/plain": [
       "Batch(states=array([[ 1.34092599e+00,  7.47469543e-01,  5.33159306e-01,\n",
       "         0.00000000e+00,  0.00000000e+00, -3.28467402e-04,\n",
       "        -5.86900893e-04, -5.86487850e-04,  8.05025307e-06,\n",
       "         1.62700503e-05,  1.34092599e+00,  7.47469543e-01,\n",
       "         5.33159306e-01,  1.47894227e+00,  6.12456150e-01,\n",
       "         5.93911463e-01],\n",
       "       [ 1.34139961e+00,  7.48319439e-01,  5.33977366e-01,\n",
       "         0.00000000e+00,  0.00000000e+00, -3.72670471e-04,\n",
       "        -6.61853537e-04, -6.49905804e-04,  1.91377654e-05,\n",
       "        -1.74648028e-05,  1.34139961e+00,  7.48319439e-01,\n",
       "         5.33977366e-01,  1.47894227e+00,  6.12456150e-01,\n",
       "         5.93911463e-01]]), actions=array([[-0.01493023, -0.02549686, -0.02170072, -0.03868279],\n",
       "       [-0.01493575, -0.02547976, -0.02171363, -0.03870109]]), rewards=array([[-1.],\n",
       "       [-1.]]), next_states=array([[ 1.34045787e+00,  7.46626901e-01,  5.32348305e-01,\n",
       "         0.00000000e+00,  0.00000000e+00, -3.33067086e-04,\n",
       "        -5.95844457e-04, -5.92400449e-04,  2.85556362e-06,\n",
       "         1.37601301e-05,  1.34045787e+00,  7.46626901e-01,\n",
       "         5.32348305e-01,  1.47894227e+00,  6.12456150e-01,\n",
       "         5.93911463e-01],\n",
       "       [ 1.34092599e+00,  7.47469543e-01,  5.33159306e-01,\n",
       "         0.00000000e+00,  0.00000000e+00, -3.28467402e-04,\n",
       "        -5.86900893e-04, -5.86487850e-04,  8.05025307e-06,\n",
       "         1.62700503e-05,  1.34092599e+00,  7.47469543e-01,\n",
       "         5.33159306e-01,  1.47894227e+00,  6.12456150e-01,\n",
       "         5.93911463e-01]]), dones=array([[False],\n",
       "       [False]]))"
      ]
     },
     "execution_count": 15,
     "metadata": {},
     "output_type": "execute_result"
    }
   ],
   "source": []
  },
  {
   "cell_type": "code",
   "execution_count": 177,
   "metadata": {},
   "outputs": [
    {
     "data": {
      "text/plain": [
       "{'observation': array([ 1.34183265e+00,  7.49100387e-01,  5.34722720e-01,  1.97805133e-04,\n",
       "         7.15193042e-05,  7.73933014e-06,  5.51992816e-08, -2.42927453e-06,\n",
       "         4.73325650e-06, -2.28455228e-06]),\n",
       " 'achieved_goal': array([1.34183265, 0.74910039, 0.53472272]),\n",
       " 'desired_goal': array([1.31576882, 0.60519969, 0.39127637])}"
      ]
     },
     "execution_count": 177,
     "metadata": {},
     "output_type": "execute_result"
    }
   ],
   "source": []
  },
  {
   "cell_type": "code",
   "execution_count": 248,
   "metadata": {},
   "outputs": [
    {
     "data": {
      "text/plain": [
       "array([[False],\n",
       "       [False],\n",
       "       [False],\n",
       "       [False],\n",
       "       [False]])"
      ]
     },
     "execution_count": 248,
     "metadata": {},
     "output_type": "execute_result"
    }
   ],
   "source": [
    "cc = replay_memory.dones\n",
    "cc"
   ]
  },
  {
   "cell_type": "code",
   "execution_count": 144,
   "metadata": {},
   "outputs": [],
   "source": [
    "intd_dones = tf.cast(1 - cc, dtype=tf.float64)"
   ]
  },
  {
   "cell_type": "code",
   "execution_count": 46,
   "metadata": {},
   "outputs": [
    {
     "data": {
      "text/plain": [
       "<tf.Tensor: id=25154443, shape=(5, 1), dtype=float64, numpy=\n",
       "array([[1.],\n",
       "       [1.],\n",
       "       [1.],\n",
       "       [1.],\n",
       "       [1.]])>"
      ]
     },
     "execution_count": 46,
     "metadata": {},
     "output_type": "execute_result"
    }
   ],
   "source": [
    "tf.constant(1 - cc, dtype=tf.float64)"
   ]
  },
  {
   "cell_type": "code",
   "execution_count": 5,
   "metadata": {},
   "outputs": [
    {
     "data": {
      "text/plain": [
       "array([    0., 10000., 20000., 30000., 40000., 50000., 60000., 70000.,\n",
       "       80000., 90000.])"
      ]
     },
     "execution_count": 5,
     "metadata": {},
     "output_type": "execute_result"
    }
   ],
   "source": [
    "import numpy as np\n",
    "np.linspace(0, 10_00_00, 10 , endpoint=False)"
   ]
  },
  {
   "cell_type": "code",
   "execution_count": null,
   "metadata": {},
   "outputs": [],
   "source": []
  }
 ],
 "metadata": {
  "kernelspec": {
   "display_name": "Python 3",
   "language": "python",
   "name": "python3"
  },
  "language_info": {
   "codemirror_mode": {
    "name": "ipython",
    "version": 3
   },
   "file_extension": ".py",
   "mimetype": "text/x-python",
   "name": "python",
   "nbconvert_exporter": "python",
   "pygments_lexer": "ipython3",
   "version": "3.7.4"
  }
 },
 "nbformat": 4,
 "nbformat_minor": 2
}
