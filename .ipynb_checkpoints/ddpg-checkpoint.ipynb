{
 "cells": [
  {
   "cell_type": "code",
   "execution_count": 137,
   "metadata": {},
   "outputs": [],
   "source": [
    "import tensorflow as tf\n",
    "import gym\n",
    "import numpy as np\n",
    "from collections import namedtuple\n",
    "\n",
    "from tensorflow.keras import Sequential\n",
    "from tensorflow.keras.layers import InputLayer\n",
    "from tensorflow.keras.layers import Dense\n",
    "\n"
   ]
  },
  {
   "cell_type": "code",
   "execution_count": 3,
   "metadata": {},
   "outputs": [
    {
     "name": "stdout",
     "output_type": "stream",
     "text": [
      "Num GPUs Available:  1\n"
     ]
    }
   ],
   "source": [
    "#GPU check\n",
    "print(\"Num GPUs Available: \", len(tf.config.experimental.list_physical_devices('GPU')))"
   ]
  },
  {
   "cell_type": "code",
   "execution_count": 6,
   "metadata": {},
   "outputs": [],
   "source": [
    "# enable tensor debugging\n",
    "tf.debugging.set_log_device_placement(True)"
   ]
  },
  {
   "cell_type": "code",
   "execution_count": 8,
   "metadata": {},
   "outputs": [],
   "source": [
    "env = gym.make('MountainCarContinuous-v0')"
   ]
  },
  {
   "cell_type": "markdown",
   "metadata": {},
   "source": [
    "# Replay buffer"
   ]
  },
  {
   "cell_type": "code",
   "execution_count": 136,
   "metadata": {},
   "outputs": [],
   "source": [
    "Batch = namedtuple(\n",
    "    'Batch', ('states', 'actions', 'rewards', 'next_states', 'dones')\n",
    ")\n",
    "\n",
    "class ReplayMemory:\n",
    "    \n",
    "    def __init__(self, max_size, state_dim, action_dim):\n",
    "        self.max_size = max_size\n",
    "        self.state_dim = state_dim\n",
    "        \n",
    "        self.states = np.random.random((max_size, state_dim))\n",
    "        self.actions = np.random.random((max_size, action_dim))\n",
    "        self.rewards = np.random.random((max_size, 1))\n",
    "        self.next_states = np.random.random((max_size, state_dim))\n",
    "        self.dones = np.full((max_size, 1), True)\n",
    "        \n",
    "        self.idx = 0\n",
    "        self.size = 0\n",
    "    \n",
    "    def add(self, state, action, reward, next_state, done):\n",
    "        \n",
    "        self.states[self.idx] = state\n",
    "        self.actions[self.idx] = action\n",
    "        self.rewards[self.idx] = reward\n",
    "        self.next_states[self.idx] = next_state\n",
    "        self.dones[self.idx] = done\n",
    "        \n",
    "        self.idx = (self.idx + 1) % self.max_size\n",
    "        self.size = min(self.size + 1, self.max_size)\n",
    "    \n",
    "    def sample(self, batch_size):\n",
    "        \n",
    "        if self.size <= batch_size:\n",
    "            sample_indices = np.random.choice(self.size, self.size, replace=False)\n",
    "        else:\n",
    "            sample_indices = np.random.choice(self.size, batch_size, replace=False)\n",
    "        print(sample_indices)\n",
    "        batch = Batch(\n",
    "                        states = self.states[ sample_indices ,:],\n",
    "                        actions = self.actions[ sample_indices ,:],\n",
    "                        rewards = self.rewards[ sample_indices ,:],\n",
    "                        next_states = self.next_states[ sample_indices ,:],\n",
    "                        dones = self.dones[ sample_indices ,:]\n",
    "                    )\n",
    "        return batch\n",
    "\n",
    "        "
   ]
  },
  {
   "cell_type": "code",
   "execution_count": 138,
   "metadata": {},
   "outputs": [],
   "source": [
    "class Critic:\n",
    "    \n",
    "    def __init__(self):\n",
    "        print(\"Critic network\")\n",
    "    \n",
    "    def create_network(self, input_size, output_size, hidden_layers, perceptrons_count=64):\n",
    "        model = Sequential()\n",
    "        model.add(InputLayer(input_size))\n",
    "        for _ in range(hidden_layers):\n",
    "            model.add(Dense(perceptrons_count, activation='relu'))\n",
    "        model.add(Dense(output_size, activation='tanh'))\n",
    "        \n",
    "        return model\n",
    "    \n",
    "    def train(model)"
   ]
  },
  {
   "cell_type": "code",
   "execution_count": null,
   "metadata": {},
   "outputs": [],
   "source": []
  }
 ],
 "metadata": {
  "kernelspec": {
   "display_name": "Python 3",
   "language": "python",
   "name": "python3"
  },
  "language_info": {
   "codemirror_mode": {
    "name": "ipython",
    "version": 3
   },
   "file_extension": ".py",
   "mimetype": "text/x-python",
   "name": "python",
   "nbconvert_exporter": "python",
   "pygments_lexer": "ipython3",
   "version": "3.7.4"
  }
 },
 "nbformat": 4,
 "nbformat_minor": 2
}
