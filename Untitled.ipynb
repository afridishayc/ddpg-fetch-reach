{
 "cells": [
  {
   "cell_type": "code",
   "execution_count": 4,
   "metadata": {},
   "outputs": [
    {
     "name": "stderr",
     "output_type": "stream",
     "text": [
      "usage: ipykernel_launcher.py [-h] [--max-steps MAX_STEPS]\n",
      "                             [--episode-max-steps EPISODE_MAX_STEPS]\n",
      "                             [--show-progress] [--gpu GPU]\n",
      "                             [--save-model-interval SAVE_MODEL_INTERVAL]\n",
      "                             [--model-dir MODEL_DIR] [--dir-suffix DIR_SUFFIX]\n",
      "                             [--test-interval TEST_INTERVAL]\n",
      "                             [--show-test-progress]\n",
      "                             [--test-episodes TEST_EPISODES]\n",
      "                             [--save-test-path] [--show-test-images]\n",
      "                             [--save-test-movie] [--use-prioritized-rb]\n",
      "                             [--use-nstep-rb] [--n-step N_STEP]\n",
      "                             [--logging-level {DEBUG,INFO,WARNING}]\n",
      "                             [--n-warmup N_WARMUP] [--batch-size BATCH_SIZE]\n",
      "                             [--memory-capacity MEMORY_CAPACITY]\n",
      "ipykernel_launcher.py: error: unrecognized arguments: -f C:\\Users\\afrid\\AppData\\Roaming\\jupyter\\runtime\\kernel-a6aae675-90ec-4d4b-a5bc-8028fee94c18.json\n"
     ]
    },
    {
     "ename": "SystemExit",
     "evalue": "2",
     "output_type": "error",
     "traceback": [
      "An exception has occurred, use %tb to see the full traceback.\n",
      "\u001b[1;31mSystemExit\u001b[0m\u001b[1;31m:\u001b[0m 2\n"
     ]
    }
   ],
   "source": [
    "import gym\n",
    "from tf2rl.algos.ddpg import DDPG\n",
    "from tf2rl.experiments.trainer import Trainer\n",
    "\n",
    "\n",
    "parser = Trainer.get_argument()\n",
    "parser = DDPG.get_argument(parser)\n",
    "args = parser.parse_args()\n",
    "\n",
    "env = gym.make(\"Pendulum-v0\")\n",
    "test_env = gym.make(\"Pendulum-v0\")\n",
    "policy = DDPG(\n",
    "    state_shape=env.observation_space.shape,\n",
    "    action_dim=env.action_space.high.size,\n",
    "    gpu=0,  # Run on CPU. If you want to run on GPU, specify GPU number\n",
    "    memory_capacity=10000,\n",
    "    max_action=env.action_space.high[0],\n",
    "    batch_size=32,\n",
    "    n_warmup=500)\n",
    "trainer = Trainer(policy, env, args, test_env=test_env)\n",
    "trainer()\n"
   ]
  },
  {
   "cell_type": "code",
   "execution_count": null,
   "metadata": {},
   "outputs": [],
   "source": []
  }
 ],
 "metadata": {
  "kernelspec": {
   "display_name": "Python 3",
   "language": "python",
   "name": "python3"
  },
  "language_info": {
   "codemirror_mode": {
    "name": "ipython",
    "version": 3
   },
   "file_extension": ".py",
   "mimetype": "text/x-python",
   "name": "python",
   "nbconvert_exporter": "python",
   "pygments_lexer": "ipython3",
   "version": "3.7.4"
  }
 },
 "nbformat": 4,
 "nbformat_minor": 2
}
